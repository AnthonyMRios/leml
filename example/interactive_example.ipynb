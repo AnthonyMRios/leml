{
 "cells": [
  {
   "cell_type": "markdown",
   "metadata": {},
   "source": [
    "# Basic use of this module"
   ]
  },
  {
   "cell_type": "markdown",
   "metadata": {},
   "source": [
    "### First we will import the libraries for this example and the module itself"
   ]
  },
  {
   "cell_type": "code",
   "execution_count": 1,
   "metadata": {},
   "outputs": [
    {
     "name": "stderr",
     "output_type": "stream",
     "text": [
      "/home/jopepato/.local/lib/python2.7/site-packages/sklearn/cross_validation.py:41: DeprecationWarning: This module was deprecated in version 0.18 in favor of the model_selection module into which all the refactored classes and functions are moved. Also note that the interface of the new CV iterators are different from that of this module. This module will be removed in 0.20.\n",
      "  \"This module will be removed in 0.20.\", DeprecationWarning)\n",
      "/home/jopepato/.local/lib/python2.7/site-packages/sklearn/grid_search.py:42: DeprecationWarning: This module was deprecated in version 0.18 in favor of the model_selection module into which all the refactored classes and functions are moved. This module will be removed in 0.20.\n",
      "  DeprecationWarning)\n"
     ]
    }
   ],
   "source": [
    "from sklearn.model_selection import KFold\n",
    "from sklearn.datasets import make_multilabel_classification\n",
    "from scipy.sparse import csr_matrix\n",
    "from sklearn.metrics import precision_score\n",
    "from pyleml import LEML"
   ]
  },
  {
   "cell_type": "markdown",
   "metadata": {},
   "source": [
    "### Get the data for our problem"
   ]
  },
  {
   "cell_type": "code",
   "execution_count": 2,
   "metadata": {},
   "outputs": [
    {
     "name": "stdout",
     "output_type": "stream",
     "text": [
      "[[3. 0. 1. ... 0. 1. 3.]\n",
      " [3. 1. 2. ... 0. 0. 0.]\n",
      " [2. 4. 7. ... 1. 2. 3.]\n",
      " ...\n",
      " [3. 4. 2. ... 0. 0. 5.]\n",
      " [2. 4. 1. ... 1. 3. 2.]\n",
      " [2. 6. 3. ... 0. 0. 3.]]\n",
      "[[0 0 1 0 0]\n",
      " [1 1 0 0 0]\n",
      " [0 0 0 1 0]\n",
      " ...\n",
      " [0 0 0 0 1]\n",
      " [1 1 1 1 1]\n",
      " [0 0 0 0 1]]\n"
     ]
    }
   ],
   "source": [
    "X, y = make_multilabel_classification(n_samples=700)\n",
    "print X\n",
    "print y"
   ]
  },
  {
   "cell_type": "markdown",
   "metadata": {},
   "source": [
    "### Initialize the model with the parameters we want to"
   ]
  },
  {
   "cell_type": "code",
   "execution_count": 3,
   "metadata": {},
   "outputs": [],
   "source": [
    "leml = LEML.get_instance('single', num_factors=120, num_iterations=20, reg_param=1., verbose=True)"
   ]
  },
  {
   "cell_type": "markdown",
   "metadata": {},
   "source": [
    "### Split the data into train and test, and let the model predict"
   ]
  },
  {
   "cell_type": "code",
   "execution_count": 4,
   "metadata": {},
   "outputs": [
    {
     "name": "stdout",
     "output_type": "stream",
     "text": [
      "Iteration 1 done\n",
      "Iteration 2 done\n",
      "Iteration 3 done\n",
      "Iteration 4 done\n",
      "Iteration 5 done\n",
      "Iteration 6 done\n",
      "Iteration 7 done\n",
      "Iteration 8 done\n",
      "Iteration 9 done\n",
      "Iteration 10 done\n",
      "Iteration 11 done\n",
      "Iteration 12 done\n",
      "Iteration 13 done\n",
      "Iteration 14 done\n",
      "Iteration 15 done\n",
      "Iteration 16 done\n",
      "Iteration 17 done\n",
      "Iteration 18 done\n",
      "Iteration 19 done\n",
      "Iteration 20 done\n",
      "[[1 1 1 1 1]\n",
      " [1 0 0 0 0]\n",
      " [0 1 0 0 1]\n",
      " ...\n",
      " [0 0 0 0 1]\n",
      " [1 1 1 1 1]\n",
      " [0 0 0 0 1]]\n",
      "[[ 0.4581458   0.49410291  0.10751324  0.22982409  0.464799  ]\n",
      " [ 1.03470519  0.0778215   0.41246179  0.05723871  0.53985905]\n",
      " [ 0.15583126  0.91224897  0.09920718  0.26070893  0.61773396]\n",
      " ...\n",
      " [ 0.35766613  0.54846241 -0.00670726  0.00797621  0.92804989]\n",
      " [ 0.33941131  0.1583224   0.10010355  0.13984118  0.59025708]\n",
      " [ 0.33776833  0.20225896 -0.1212428   0.19003963  0.60585002]]\n"
     ]
    }
   ],
   "source": [
    "skf = KFold(n_splits=2)\n",
    "for train_index, test_index in skf.split(X, y):\n",
    "    X_train, X_test = X[train_index], X[test_index]\n",
    "    y_train, y_test = y[train_index], y[test_index]\n",
    "\n",
    "leml.fit(X_train, y_train)\n",
    "predictions = leml.predict(X_test)\n",
    "print y_test\n",
    "print predictions"
   ]
  }
 ],
 "metadata": {
  "kernelspec": {
   "display_name": "Python 2",
   "language": "python",
   "name": "python2"
  },
  "language_info": {
   "codemirror_mode": {
    "name": "ipython",
    "version": 2
   },
   "file_extension": ".py",
   "mimetype": "text/x-python",
   "name": "python",
   "nbconvert_exporter": "python",
   "pygments_lexer": "ipython2",
   "version": "2.7.14"
  }
 },
 "nbformat": 4,
 "nbformat_minor": 2
}
